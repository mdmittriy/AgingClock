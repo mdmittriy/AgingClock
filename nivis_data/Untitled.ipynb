{
 "cells": [
  {
   "cell_type": "code",
   "execution_count": 1,
   "id": "5678f800",
   "metadata": {},
   "outputs": [],
   "source": [
    "from pickle import load\n",
    "import pandas as pd\n",
    "import numpy as np"
   ]
  },
  {
   "cell_type": "code",
   "execution_count": 2,
   "id": "0dc073d5",
   "metadata": {},
   "outputs": [],
   "source": [
    "df = pd.read_csv('data_bio_albcr.csv')\n",
    "df = df.iloc[[0]]"
   ]
  },
  {
   "cell_type": "code",
   "execution_count": 3,
   "id": "14abd328",
   "metadata": {},
   "outputs": [],
   "source": [
    "df.drop(['SEQN', 'AlkPhos_UL'], axis=1, inplace=True)"
   ]
  },
  {
   "cell_type": "code",
   "execution_count": 4,
   "id": "79f915bc",
   "metadata": {},
   "outputs": [
    {
     "data": {
      "text/plain": [
       "array([['M', 45.0, 4.646, 6.800000000000001, 5.56, 7.2, 144.1,\n",
       "        61.900000000000006, 14.1, 12.0, 1.45, 1.39, 3.52, 2.325, 4.06,\n",
       "        41.8, 33.6, 88.5, 214.0, 4.73, 77]], dtype=object)"
      ]
     },
     "execution_count": 4,
     "metadata": {},
     "output_type": "execute_result"
    }
   ],
   "source": [
    "num = df.to_numpy()\n",
    "num"
   ]
  },
  {
   "cell_type": "code",
   "execution_count": 5,
   "id": "edde05a4",
   "metadata": {},
   "outputs": [],
   "source": [
    "trans = load(open('../data/transformer.pkl', 'rb'))"
   ]
  },
  {
   "cell_type": "code",
   "execution_count": 6,
   "id": "63b605b9",
   "metadata": {},
   "outputs": [],
   "source": [
    "d = trans.transform(df)"
   ]
  },
  {
   "cell_type": "code",
   "execution_count": 7,
   "id": "ee9fa078",
   "metadata": {},
   "outputs": [
    {
     "name": "stderr",
     "output_type": "stream",
     "text": [
      "/home/ja/miniconda3/envs/fastAI/lib/python3.8/site-packages/sklearn/base.py:445: UserWarning: X does not have valid feature names, but OrdinalEncoder was fitted with feature names\n",
      "  warnings.warn(\n",
      "/home/ja/miniconda3/envs/fastAI/lib/python3.8/site-packages/sklearn/base.py:445: UserWarning: X does not have valid feature names, but StandardScaler was fitted with feature names\n",
      "  warnings.warn(\n"
     ]
    }
   ],
   "source": [
    "n = trans.transform(num)"
   ]
  },
  {
   "cell_type": "code",
   "execution_count": 15,
   "id": "a3b0831c",
   "metadata": {},
   "outputs": [
    {
     "data": {
      "text/plain": [
       "True"
      ]
     },
     "execution_count": 15,
     "metadata": {},
     "output_type": "execute_result"
    }
   ],
   "source": [
    "d.tolist() == n.tolist()"
   ]
  },
  {
   "cell_type": "code",
   "execution_count": 4,
   "id": "3205aa5b",
   "metadata": {},
   "outputs": [],
   "source": [
    "featuers = [\n",
    " 'GENDER',\n",
    " 'Albumin_gL',\n",
    " 'Glucose_mmolL',\n",
    " 'Urea_mmolL',\n",
    " 'Cholesterol_mmolL',\n",
    " 'Protein_gdL',\n",
    " 'Sodium_mmolL',\n",
    " 'Creatinine_umolL',\n",
    " 'Hemoglobin_gdl',\n",
    " 'Bilirubin_umolL',\n",
    " 'Triglyceride_mmolL',\n",
    " 'HDL_mmolL',\n",
    " 'LDL_mmolL',\n",
    " 'Calcium_mmolL',\n",
    " 'Potassium_mmolL',\n",
    " 'Hematocrit_%',\n",
    " 'MCHC_gdl',\n",
    " 'MCV_fL',\n",
    " 'Platelet_TuL',\n",
    " 'RBC_MuL',\n",
    " 'AGE']"
   ]
  }
 ],
 "metadata": {
  "kernelspec": {
   "display_name": "Python 3 (ipykernel)",
   "language": "python",
   "name": "python3"
  },
  "language_info": {
   "codemirror_mode": {
    "name": "ipython",
    "version": 3
   },
   "file_extension": ".py",
   "mimetype": "text/x-python",
   "name": "python",
   "nbconvert_exporter": "python",
   "pygments_lexer": "ipython3",
   "version": "3.8.2"
  }
 },
 "nbformat": 4,
 "nbformat_minor": 5
}
