{
 "cells": [
  {
   "cell_type": "code",
   "execution_count": 1,
   "id": "9b06ab03",
   "metadata": {},
   "outputs": [],
   "source": [
    "import math\n",
    "import torch\n",
    "from torch import nn\n",
    "from pathlib import Path\n",
    "import pandas as pd\n",
    "\n",
    "import ipywidgets as widgets\n",
    "from ipywidgets import GridspecLayout,Dropdown,BoundedFloatText,Button,Layout\n",
    "\n",
    "MODEL_PATH = Path.cwd()/'Models'\n",
    "device = torch.device('cuda:0' if torch.cuda.is_available() else 'cpu')"
   ]
  },
  {
   "cell_type": "code",
   "execution_count": 2,
   "id": "dd8bbb0e",
   "metadata": {
    "jupyter": {
     "source_hidden": true
    }
   },
   "outputs": [],
   "source": [
    "#import this or somehow avoid explicitely writing it here\n",
    "class NN(nn.Module):\n",
    "    def __init__(self, layers=[1000,500,250], ps=0.35, in_features=20, y_range=(20, 90)):\n",
    "        super(NN, self).__init__()\n",
    "        self.y_range = y_range\n",
    "        self.layers = layers\n",
    "        self.ps = ps\n",
    "        layers = [in_features] + layers\n",
    "        layers = list(zip(layers, layers[1:]))\n",
    "        \n",
    "        l = []\n",
    "        for layer in layers:\n",
    "            l.append(nn.Linear(*layer))\n",
    "            #TODO: play with negative slope koef. of LeakyReLU\n",
    "            l.append(nn.LeakyReLU())\n",
    "            l.append(nn.Dropout(ps))\n",
    "        l.append(nn.Linear(layers[-1][1], 1))\n",
    "\n",
    "        self.arch = nn.Sequential(*l)\n",
    "        \n",
    "    def forward(self, x):\n",
    "        x = self.arch(x)\n",
    "        x = (self.y_range[1]-self.y_range[0])*torch.sigmoid(x)+self.y_range[0]\n",
    "        return x"
   ]
  },
  {
   "cell_type": "code",
   "execution_count": 3,
   "id": "b6a0f7ec",
   "metadata": {},
   "outputs": [],
   "source": [
    "def predict(biomarkers):\n",
    "    path = Path.cwd()/'Models'/'adm_state_dict'\n",
    "    lm = NN()\n",
    "    lm.load_state_dict(torch.load(path))\n",
    "    lm.eval()\n",
    "    biomarkers = torch.Tensor(biomarkers)\n",
    "    return(lm(biomarkers)-27)"
   ]
  },
  {
   "cell_type": "code",
   "execution_count": 4,
   "id": "5a909eea",
   "metadata": {},
   "outputs": [],
   "source": [
    "def change_x(*args):\n",
    "    sex_box.index = None\n",
    "    sex_box.value = 'Male'\n",
    "    \n",
    "    for i in range(len(MALE29)+1):\n",
    "        grid[i+2, 2].value = MALE29[i]"
   ]
  },
  {
   "cell_type": "code",
   "execution_count": 5,
   "id": "6a407b65",
   "metadata": {},
   "outputs": [],
   "source": [
    "#TODO: Refactor with recursion\n",
    "def example_change(change):\n",
    "    def change_values(age):\n",
    "        sex_box.index = None\n",
    "        sex_box.value = 'Male' if samples[age][0] == 1 else 'Female'\n",
    "        for i in range(len(samples[age])):\n",
    "            grid[i+2, 2].value = samples[age][i+1]\n",
    "        \n",
    "    if change['type'] == 'change' and change['name'] == 'value':\n",
    "        if change['new'] == '-':\n",
    "            sex_box.index = None\n",
    "            sex_box.value = '-'\n",
    "            for i in range(len(list(samples.values())[0])):\n",
    "                grid[i+2, 2].value = 0\n",
    "        elif change['new'] == 'Male 69 y/o':\n",
    "            change_values(69)\n",
    "        elif change['new'] == 'Male 40 y/o':\n",
    "            change_values(40)\n",
    "        elif change['new'] == 'Male 29 y/o':\n",
    "            change_values(29)\n"
   ]
  },
  {
   "cell_type": "code",
   "execution_count": 6,
   "id": "7c348941",
   "metadata": {},
   "outputs": [],
   "source": [
    "def submit_clicked(b):\n",
    "    grid[-1,2].button_style='primary'\n",
    "    markers = [grid[i+2, 2].value for i in range(len(biomarkers))]\n",
    "    if sex_box.value=='-':\n",
    "        grid[-1,2].description='Please enter your Sex'\n",
    "        age.style.button_color = 'orange'\n",
    "    elif 0 in markers:\n",
    "        grid[-1,2].description='Please enter missing biomarkers'\n",
    "        age.style.button_color = 'orange'\n",
    "    else:\n",
    "        markers.insert(0, int(sex_box.value=='Male'))\n",
    "        grid[-1,2].description='You are {} years old'.format(\n",
    "            round(predict(markers).data.item()))\n",
    "        age.style.button_color = '#2471a3'"
   ]
  },
  {
   "cell_type": "code",
   "execution_count": 7,
   "id": "183e459f",
   "metadata": {},
   "outputs": [],
   "source": [
    "warn_text='''Age predictor needs all blood marker values and your Sex to make\n",
    "a prediction. If you are missing values and filling them in, this might have\n",
    "a dramatic impact on the results. However your entered Height, Weight, and\n",
    "Smoking Status are not required for estimating your biological age and only\n",
    "used for record keeping.'''\n",
    "title = 'Deep Biomarkers Of Human Aging: How Old By a Basic Blood Test'\n",
    "subtitle = '''This is a deep-learned predictor of your age made with a DNN\n",
    "trained on tens of thousands anonymized human blood tests. <br>Enter your\n",
    "data below and the model will guess your age.'''\n",
    "asterics_text = [\n",
    "    '* This should be in your clinical biochemistry blood test results.',\n",
    "    '''** Required parameter for minimal prediction accuracy of 70% within\n",
    "    10 year frame.''',\n",
    "    '''*** We can not show you reference values before knowing your age\n",
    "    apriori, so this is only a reference metric.''']"
   ]
  },
  {
   "cell_type": "code",
   "execution_count": 8,
   "id": "7e9e1488",
   "metadata": {},
   "outputs": [],
   "source": [
    "markers_units=pd.read_csv('Data/non_NHANES/markers_units.csv').values.tolist()"
   ]
  },
  {
   "cell_type": "code",
   "execution_count": 9,
   "id": "175d8816",
   "metadata": {},
   "outputs": [],
   "source": [
    "biomarkers = [(i+2, markers_units[i][0], markers_units[i][1])\n",
    " for i in range(len(markers_units))]"
   ]
  },
  {
   "cell_type": "code",
   "execution_count": 10,
   "id": "b8d388a0",
   "metadata": {},
   "outputs": [],
   "source": [
    "samples = [list(pd.read_csv('Data/non_NHANES/samples_from_aging.csv').iloc[i]) \n",
    "           for i in range(len(pd.read_csv(\n",
    "               'Data/non_NHANES/samples_from_aging.csv')))]\n",
    "\n",
    "samples = {sample[-1]:sample[:-1] for sample in samples}"
   ]
  },
  {
   "cell_type": "code",
   "execution_count": null,
   "id": "f9dbc03c",
   "metadata": {},
   "outputs": [],
   "source": []
  },
  {
   "cell_type": "code",
   "execution_count": 11,
   "id": "46790c98",
   "metadata": {},
   "outputs": [
    {
     "data": {
      "application/vnd.jupyter.widget-view+json": {
       "model_id": "e9b9ac8448fb42a7bd69d648f657aa5a",
       "version_major": 2,
       "version_minor": 0
      },
      "text/plain": [
       "GridspecLayout(children=(HTML(value='<center><h1 style=\"font-family:verdana\"><font color=\\n    \"paleturquoise\"…"
      ]
     },
     "metadata": {},
     "output_type": "display_data"
    }
   ],
   "source": [
    "header_grid = widgets.GridspecLayout(4, 5, width='auto')\n",
    "\n",
    "title = widgets.HTML(\n",
    "    value='''<center><h1 style=\"font-family:verdana\"><font color=\n",
    "    \"paleturquoise\">{}</h1><hr><h2 style=\"font-family:verdana\">\n",
    "    {}</h2></center>'''.format(title, subtitle))\n",
    "\n",
    "height_box = widgets.Text(\n",
    "    placeholder='Enter your height (Optional)',\n",
    "    description='Height:')\n",
    "\n",
    "weight_box = widgets.Text(\n",
    "    placeholder='Enter your weight (Optional)',\n",
    "    description='Weight:')\n",
    "\n",
    "sex_box = widgets.Dropdown(options=['-','Male','Female'], description='Sex:')\n",
    "\n",
    "smoke_box = widgets.Dropdown(options=['-','No','Yes'], description='Smoke:')\n",
    "\n",
    "load_label = widgets.HTML(value = '<center><h2>Load an Example</h2></center>',\n",
    "                          layout=Layout(top='45px', left='7px'))\n",
    "\n",
    "load_box = widgets.Dropdown(\n",
    "    value='-',\n",
    "    options=['-']+['Male '+str(int(x))+' y/o' for x in list(samples.keys())],\n",
    "    description=' ',\n",
    "    layout=Layout(bottom='45px', right='6px'))\n",
    "load_box.observe(example_change)\n",
    "\n",
    "header_grid[0:1,1:-1]=title\n",
    "header_grid[2,1] = height_box\n",
    "header_grid[2,2] = weight_box\n",
    "header_grid[2,3] = load_label\n",
    "header_grid[3,1] = sex_box\n",
    "header_grid[3,2] = smoke_box\n",
    "header_grid[3,3] = load_box\n",
    "\n",
    "header_grid"
   ]
  },
  {
   "cell_type": "code",
   "execution_count": null,
   "id": "c53794f5",
   "metadata": {},
   "outputs": [],
   "source": []
  },
  {
   "cell_type": "code",
   "execution_count": 12,
   "id": "d4b73e63",
   "metadata": {},
   "outputs": [],
   "source": [
    "def create__button(description, button_style, height):\n",
    "    return Button(description=description,\n",
    "                  tooltip=description,\n",
    "                  button_style=button_style,\n",
    "                  disabled=True,\n",
    "                  layout=Layout(height=height, width='auto'))"
   ]
  },
  {
   "cell_type": "code",
   "execution_count": 13,
   "id": "f12055d5",
   "metadata": {},
   "outputs": [
    {
     "data": {
      "application/vnd.jupyter.widget-view+json": {
       "model_id": "b220a95ff1614cebbff16c9d8144d028",
       "version_major": 2,
       "version_minor": 0
      },
      "text/plain": [
       "GridspecLayout(children=(HTML(value='<center><h4><font color=\"orange\">Age predictor needs all blood marker val…"
      ]
     },
     "metadata": {},
     "output_type": "display_data"
    }
   ],
   "source": [
    "grid=widgets.GridspecLayout(len(biomarkers)+7,5,height='1100px',width='auto')\n",
    "h = '28px'\n",
    "\n",
    "warning = widgets.HTML(\n",
    "    value='<center><h4><font color=\"orange\">{}</h4></center>'.format(\n",
    "        warn_text))\n",
    "\n",
    "asterics = widgets.HTML(\n",
    "    value = '''<p><font color=\"orange\">{}</p><p><fontcolor=\n",
    "    \"orange\">{}</p><p><font color=\"orange\">{}\n",
    "    </h4>'''.format(asterics_text[0],asterics_text[1],asterics_text[2]))\n",
    "\n",
    "grid[0,1:-1] = warning\n",
    "grid[1,1] = create__button('Blood Marker*', 'primary', 'auto')\n",
    "grid[1,2] = create__button('Your Value', 'primary', '40px')\n",
    "grid[1,3] = create__button('Units and Sample Metric***', 'primary', 'auto')\n",
    "\n",
    "for x in biomarkers: \n",
    "        grid[x[0],1] = create__button(x[1], 'info', 'auto')\n",
    "        grid[x[0],3] = create__button(x[2], 'info', 'auto')\n",
    "        \n",
    "        grid[x[0],2] = BoundedFloatText(min=0,\n",
    "                                        max=1000,\n",
    "                                        layout=Layout(height=h, width='auto'),\n",
    "                                        value=None,\n",
    "                                        step=0.01,\n",
    "                                        disabled=False)\n",
    "        \n",
    "        \n",
    "grid[-5,1:] = asterics\n",
    "\n",
    "submit = Button(description='Submit',\n",
    "                tooltip='Predict your age with entered biomarkers',\n",
    "                button_style='primary',\n",
    "                layout=Layout(height='30px', width='auto'))\n",
    "\n",
    "age = Button(layout=Layout(height='30px', width='auto'))\n",
    "age.style.button_color = '#111111'\n",
    "\n",
    "submit.on_click(submit_clicked)\n",
    "grid[-2,2] = submit\n",
    "grid[-1,2] = age\n",
    "\n",
    "grid"
   ]
  },
  {
   "cell_type": "code",
   "execution_count": 14,
   "id": "ce56f98b",
   "metadata": {},
   "outputs": [
    {
     "data": {
      "application/vnd.jupyter.widget-view+json": {
       "model_id": "149ab4e429534ae68d8cfa81439cda10",
       "version_major": 2,
       "version_minor": 0
      },
      "text/plain": [
       "HTML(value=\"<center><br><br><br><br><br><br><hr><br>Made by Dmytro Mishchenko as a project for the\\n    <a hre…"
      ]
     },
     "metadata": {},
     "output_type": "display_data"
    }
   ],
   "source": [
    "footer_html = {\n",
    "    'gap':'<br><br><br><br><br><br><hr>',\n",
    "\n",
    "    'sjsu':'''Made by Dmytro Mishchenko as a project for the\n",
    "    <a href='https://pytorch2021.devpost.com/'><u>PyTorch Hackathon\n",
    "    </u> </a> with the help of a <a href='https://mlatsjsu.club'>\n",
    "    <u>Machine Learning Club</u></a> at San Jose State University.''',\n",
    "\n",
    "    'github':'''This project is open-source and is covered by the MIT License,\n",
    "    for more details or if you want to contribure here is the\n",
    "    <a href='https://github.com/mdmittriy/AgingClock'><u>\n",
    "    GitHub repository</u></a>.''',\n",
    "\n",
    "    'demo':'''You can take a look at the demo of this project <a\n",
    "    href='https://www.youtube.com/watch?v=SCxRiXIG13Q'><u>here</u></a>. And\n",
    "    notice that this work is heavily inspired by\n",
    "    <a href='http://www.aging.ai'><u>aging.ai</u></a>'''}\n",
    "\n",
    "widgets.HTML(value='<center>{}<br>{}<br>{}<br>{}</center>'.format(\n",
    "    footer_html['gap'],footer_html['sjsu'],\n",
    "    footer_html['github'],footer_html['demo']))"
   ]
  }
 ],
 "metadata": {
  "kernelspec": {
   "display_name": "Python 3 (ipykernel)",
   "language": "python",
   "name": "python3"
  },
  "language_info": {
   "codemirror_mode": {
    "name": "ipython",
    "version": 3
   },
   "file_extension": ".py",
   "mimetype": "text/x-python",
   "name": "python",
   "nbconvert_exporter": "python",
   "pygments_lexer": "ipython3",
   "version": "3.8.2"
  }
 },
 "nbformat": 4,
 "nbformat_minor": 5
}
