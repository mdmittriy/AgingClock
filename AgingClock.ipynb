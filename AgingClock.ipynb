{
 "cells": [
  {
   "cell_type": "code",
   "execution_count": 1,
   "id": "a8cc2ab3",
   "metadata": {},
   "outputs": [],
   "source": [
    "import math\n",
    "import torch\n",
    "from torch import nn\n",
    "from torch import optim\n",
    "from torch.utils.data import Dataset\n",
    "from torch.utils.data import DataLoader\n",
    "from pathlib import Path\n",
    "import pandas as pd\n",
    "\n",
    "import ipywidgets as widgets\n",
    "from ipywidgets import GridspecLayout, Button, Layout, Dropdown, BoundedFloatText, VBox, Button, Layout\n",
    "\n",
    "MODEL_PATH = Path.cwd()/'Models'\n",
    "device = torch.device(\"cuda:0\" if torch.cuda.is_available() else \"cpu\")"
   ]
  },
  {
   "cell_type": "code",
   "execution_count": 2,
   "id": "641d704a",
   "metadata": {},
   "outputs": [],
   "source": [
    "#import this or somehow avoid explicitely writing it here\n",
    "class NN(nn.Module):\n",
    "    def __init__(self, layers=[1000,500,250], ps=0.35, in_features=20, y_range=(20, 90)):\n",
    "        super(NN, self).__init__()\n",
    "        self.y_range = y_range\n",
    "        self.layers = layers\n",
    "        self.ps = ps\n",
    "        layers = [in_features] + layers\n",
    "        layers = list(zip(layers, layers[1:]))\n",
    "        \n",
    "        l = []\n",
    "        for layer in layers:\n",
    "            l.append(nn.Linear(*layer))\n",
    "            #TODO: play with negative slope koef. of LeakyReLU\n",
    "            l.append(nn.LeakyReLU())\n",
    "            l.append(nn.Dropout(ps))\n",
    "        l.append(nn.Linear(layers[-1][1], 1))\n",
    "\n",
    "        self.arch = nn.Sequential(*l)\n",
    "        \n",
    "    def forward(self, x):\n",
    "        x = self.arch(x)\n",
    "        x = (self.y_range[1]-self.y_range[0]) * torch.sigmoid(x) + self.y_range[0]\n",
    "        return x\n",
    "    \n",
    "    def __repr__(self):\n",
    "        return \"Linear -> LeakyReLU -> Dropout\\nlayers: {}\\nps: {}\\n\".format(self.layers, self.ps)"
   ]
  },
  {
   "cell_type": "code",
   "execution_count": 12,
   "id": "6f44f0ea",
   "metadata": {},
   "outputs": [],
   "source": [
    "def predict(biomarkers):\n",
    "    path = Path.cwd()/'Models'/'adm_state_dict'\n",
    "    lm = NN()\n",
    "    lm.load_state_dict(torch.load(path))\n",
    "    lm.eval()\n",
    "    biomarkers = torch.Tensor(biomarkers)\n",
    "    return(lm(biomarkers)-27)"
   ]
  },
  {
   "cell_type": "code",
   "execution_count": null,
   "id": "7bff0855",
   "metadata": {},
   "outputs": [],
   "source": [
    "def change_x(*args):\n",
    "    sex_box.index = None\n",
    "    sex_box.value = \"Male\"\n",
    "    \n",
    "    for i in range(len(MALE29)+1):\n",
    "        grid[i+2, 2].value = MALE29[i]"
   ]
  },
  {
   "cell_type": "code",
   "execution_count": 14,
   "id": "cca6b0dd",
   "metadata": {},
   "outputs": [],
   "source": [
    "#TODO: Refactor with recursion\n",
    "def example_change(change):\n",
    "    def change_values(age):\n",
    "        sex_box.index = None\n",
    "        sex_box.value = \"Male\" if samples[age][0] == 1 else \"Female\"\n",
    "        for i in range(len(samples[age])):\n",
    "            grid[i+2, 2].value = samples[age][i+1]\n",
    "        \n",
    "    if change['type'] == 'change' and change['name'] == 'value':\n",
    "        if change['new'] == '-':\n",
    "            sex_box.index = None\n",
    "            sex_box.value = \"-\"\n",
    "            for i in range(len(list(samples.values())[0])):\n",
    "                grid[i+2, 2].value = 0\n",
    "        elif change['new'] == 'Male 69 y/o':\n",
    "            change_values(69)\n",
    "        elif change['new'] == 'Male 40 y/o':\n",
    "            change_values(40)\n",
    "        elif change['new'] == 'Male 29 y/o':\n",
    "            change_values(29)\n"
   ]
  },
  {
   "cell_type": "code",
   "execution_count": 20,
   "id": "34ab123e",
   "metadata": {},
   "outputs": [],
   "source": [
    "def submit_clicked(b):\n",
    "    grid[-1,2].button_style=\"primary\"\n",
    "    markers = [grid[i+2, 2].value for i in range(len(biomarkers))]\n",
    "    if sex_box.value=='-':\n",
    "        grid[-1,2].description=\"Please enter your Sex\"\n",
    "        age.style.button_color = 'orange'\n",
    "    elif 0 in markers:\n",
    "        grid[-1,2].description=\"Please enter missing biomarkers\"\n",
    "        age.style.button_color = 'orange'\n",
    "    else:\n",
    "        markers.insert(0, int(sex_box.value=='Male'))\n",
    "        grid[-1,2].description=f\"You are {round(predict(markers).data.item())} years old\"\n",
    "        age.style.button_color = 'paleturquoise'"
   ]
  },
  {
   "cell_type": "code",
   "execution_count": 3,
   "id": "3bd80745",
   "metadata": {},
   "outputs": [],
   "source": [
    "samples = [list(pd.read_csv('Data/samples_from_aging.csv').iloc[i]) \n",
    "           for i in range(len(pd.read_csv('Data/samples_from_aging.csv')))]\n",
    "\n",
    "samples = {sample[-1]:sample[:-1] for sample in samples}"
   ]
  },
  {
   "cell_type": "code",
   "execution_count": 5,
   "id": "3a271275",
   "metadata": {},
   "outputs": [],
   "source": [
    "warn_text=\"\"\"Age predictor needs all blood marker values and your Sex to make a prediction. If you are missing values and filling them in, this might have a dramatic impact on the results. However your entered Height, Weight, and Smoking Status are not required for estimating your biological age and only used for record keeping.\"\"\""
   ]
  },
  {
   "cell_type": "code",
   "execution_count": 24,
   "id": "16fb967a",
   "metadata": {},
   "outputs": [],
   "source": [
    "a=\"\"\"Albumin**                        [                    ] 35 - 52 g/l\n",
    "Glucose**                        [                    ] 3.9 - 5.8 mmole/l\n",
    "Urea**(BUN)                      [                    ] 2.5 - 6.4 mmole/l\n",
    "Cholesterol**                    [                    ] 3.37 - 5.96 mmole/l\n",
    "Protein total**                  [                    ] 64 - 83 g/l\n",
    "Sodium**                         [                    ] 136 - 146 mmole/l\n",
    "Creatinine**                     [                    ] 53 - 97 mmole/l\n",
    "Hemoglobin**                     [                    ] 11.7 - 15.5 g/dl\n",
    "Bilirubin total                  [                    ] 1.7 - 21 mcmole/l\n",
    "Triglycerides                    [                    ] 0.68 - 6 mmole/l\n",
    "HDL Cholesterol                  [                    ] < 3.3 mmole/l\n",
    "LDL cholesterol (by Friedewald)  [                    ] 1.81- 4.04 mmole/l\n",
    "Calcium                          [                    ] 2.15 - 2.65 mmole/l\n",
    "Potassium                        [                    ] 3.4 - 5.1 mmole/l\n",
    "Hematocrit                       [                    ] 37 - 50 %\n",
    "MCHC                             [                    ] 31.5 - 35.7 g/dL\n",
    "MCV                              [                    ] 82 - 95 fl\n",
    "Platelets                        [                    ] 150 - 450 10^3 /mcl\n",
    "Erythrocytes (RBC)               [                    ] 3.5 - 5.5 10^6 /mcl\"\"\"\n",
    "\n",
    "lines = a.splitlines()\n",
    "lines = [l.split('[') for l in lines]\n",
    "lines = [(b.strip(), m.strip()) for b, m in lines]\n",
    "\n",
    "biomarkers = [l[0] for l in lines]\n",
    "\n",
    "measures = [l[1][2:] for l in lines]\n",
    "measures[4] = '6.4 - 8.3 g/dl'\n",
    "\n",
    "biomarkers = [(i+2, biomarkers[i], measures[i]) for i in range(len(biomarkers))]\n",
    "\n",
    "biomarkers"
   ]
  },
  {
   "cell_type": "code",
   "execution_count": 13,
   "id": "01572269",
   "metadata": {},
   "outputs": [],
   "source": [
    "load_box = widgets.Dropdown(options=['-', 'Male 69 y/o', 'Male 40 y/o', 'Male 58 y/o'], description=\" \")\n",
    "sex_box = widgets.Dropdown(options=[\"-\", \"Male\", \"Female\"], description=\"Sex:\")\n",
    "smoke_box = widgets.Dropdown(options=[\"-\", \"No\", \"Yes\"], description=\"Smoke:\")\n",
    "        \n",
    "load_box.observe(change_x, 'value')"
   ]
  },
  {
   "cell_type": "code",
   "execution_count": 14,
   "id": "d3a8a4f7",
   "metadata": {},
   "outputs": [],
   "source": [
    "load_box = widgets.Dropdown(\n",
    "    value='-',\n",
    "    options=['-']+['Male '+str(int(x))+' y/o' for x in list(samples.keys())],\n",
    "    description=\" \"\n",
    ")\n",
    "\n",
    "\n",
    "load_box.observe(example_change)"
   ]
  },
  {
   "cell_type": "code",
   "execution_count": 15,
   "id": "408b98c3",
   "metadata": {},
   "outputs": [],
   "source": [
    "height_box = widgets.Text(\n",
    "    #value='',\n",
    "    placeholder='Enter your height (Optional)',\n",
    "    description='Height:',\n",
    "    #disabled=False\n",
    ")"
   ]
  },
  {
   "cell_type": "code",
   "execution_count": 16,
   "id": "b13b9b42",
   "metadata": {},
   "outputs": [],
   "source": [
    "weight_box = widgets.Text(\n",
    "    #value='',\n",
    "    placeholder='Enter your weight (Optional)',\n",
    "    description='Weight:',\n",
    "    #disabled=False\n",
    ")"
   ]
  },
  {
   "cell_type": "code",
   "execution_count": 17,
   "id": "591c7b3c",
   "metadata": {},
   "outputs": [],
   "source": [
    "load_label = widgets.HTML(value = '<center><h3>Load an Example</h3></center>')\n",
    "load_box = VBox([load_label, load_box])"
   ]
  },
  {
   "cell_type": "code",
   "execution_count": 18,
   "id": "7c681560",
   "metadata": {},
   "outputs": [],
   "source": [
    "title = \"Deep Biomarkers Of Human Aging: How Old By a Basic Blood Test\"\n",
    "subtitle = \"This is a deep-learned predictor of your age made with a DNN trained on tens of thousands anonymized human blood tests. <br>Enter your data below and the model will guess your age.\""
   ]
  },
  {
   "cell_type": "code",
   "execution_count": 19,
   "id": "340a3b23",
   "metadata": {},
   "outputs": [
    {
     "data": {
      "application/vnd.jupyter.widget-view+json": {
       "model_id": "043da72b3f6b4c79aeafc1f8043e36f1",
       "version_major": 2,
       "version_minor": 0
      },
      "text/plain": [
       "GridspecLayout(children=(HTML(value='<center><h1 style=\"font-family:verdana\"><font color=\"paleturquoise\">Deep …"
      ]
     },
     "metadata": {},
     "output_type": "display_data"
    }
   ],
   "source": [
    "header_grid = widgets.GridspecLayout(4, 5, width='auto')\n",
    "\n",
    "warning = widgets.HTML(value = f\"<center><h4><font color='orange'>{warn_text}</h4></center>\")\n",
    "title = widgets.HTML(value = f'<center><h1 style=\"font-family:verdana\"><font color=\"paleturquoise\">{title}</h1><hr><h2 style=\"font-family:verdana\">{subtitle}</h2></center>')\n",
    "\n",
    "header_grid[0:1,1:-1]=title\n",
    "input_row = 2\n",
    "\n",
    "header_grid[input_row,1] = height_box\n",
    "header_grid[input_row,2] = weight_box\n",
    "header_grid[input_row:input_row+1,3] = load_box\n",
    "\n",
    "header_grid[input_row+1,2] = smoke_box\n",
    "header_grid[input_row+1,1] = sex_box\n",
    "\n",
    "header_grid"
   ]
  },
  {
   "cell_type": "code",
   "execution_count": 21,
   "id": "571d7da0",
   "metadata": {},
   "outputs": [],
   "source": [
    "asterics_text = [\"* This should be in your clinical biochemistry blood test results.\",\n",
    "                 \"** Required parameter for minimal prediction accuracy of 70% within 10 year frame.\",\n",
    "                 \"*** We can not show you reference values before knowing your age apriori, so this is only a reference metric.\"]\n",
    "\n",
    "asterics = widgets.HTML(value = f\"<p><font color='orange'>{asterics_text[0]}</p><p><font color='orange'>{asterics_text[1]}</p><p><font color='orange'>{asterics_text[2]}</h4>\")"
   ]
  },
  {
   "cell_type": "code",
   "execution_count": 22,
   "id": "f0694e2f",
   "metadata": {},
   "outputs": [
    {
     "data": {
      "application/vnd.jupyter.widget-view+json": {
       "model_id": "8a1f32e45ed042d48fa2caf6fc1cd580",
       "version_major": 2,
       "version_minor": 0
      },
      "text/plain": [
       "GridspecLayout(children=(HTML(value=\"<center><h4><font color='orange'>Age predictor needs all blood marker val…"
      ]
     },
     "metadata": {},
     "output_type": "display_data"
    }
   ],
   "source": [
    "grid = widgets.GridspecLayout(len(biomarkers)+7, 5, height='1100px', width='auto')\n",
    "h = '28px'\n",
    "\n",
    "grid[0,1:-1] = warning\n",
    "\n",
    "for x in biomarkers:\n",
    "        grid[x[0], 1] = Button(description=x[1], tooltip=x[1], button_style=\"info\", disabled=True, layout=Layout(height=h, width='auto'))\n",
    "        grid[x[0], 3] = Button(description=x[2], tooltip=x[2], button_style=\"info\", disabled=True, layout=Layout(height=h, width='auto'))\n",
    "        \n",
    "        grid[x[0], 2] = BoundedFloatText(\n",
    "        min=0,\n",
    "        max=1000,\n",
    "        layout=Layout(width='auto', height=h),\n",
    "        value=None,\n",
    "        step=0.01,\n",
    "        #description=' ',\n",
    "        disabled=False\n",
    "    )\n",
    "        \n",
    "grid[1,1] = Button(description=\"Blood Marker*\", tooltip=\"Blood Marker*\", button_style='primary', disabled=True, layout=Layout(height='auto', width='auto'))\n",
    "grid[1,2] = Button(description=\"Your Value\", tooltip=\"Your Value\", button_style=\"primary\", disabled=True, layout=Layout(height='40px', width='auto'))\n",
    "grid[1,3] = Button(description=\"Units and Sample Metric***\", tooltip=\"Units and Sample Metric***\", button_style=\"primary\", disabled=True, layout=Layout(height='auto', width='auto'))\n",
    "        \n",
    "grid[-5,1:] = asterics\n",
    "submit = Button(description=\"Submit\",tooltip=\"Predict your age with entered biomarkers\", button_style=\"primary\", layout=Layout(height='30px', width='auto'))\n",
    "age = Button(layout=Layout(height='30px', width='auto'))\n",
    "age.style.button_color = '#111111'\n",
    "\n",
    "submit.on_click(submit_clicked)\n",
    "grid[-2,2] = submit\n",
    "grid[-1,2] = age\n",
    "\n",
    "grid"
   ]
  },
  {
   "cell_type": "code",
   "execution_count": 23,
   "id": "3c03bf97",
   "metadata": {},
   "outputs": [
    {
     "data": {
      "application/vnd.jupyter.widget-view+json": {
       "model_id": "544f15663f6e421f9e174d46ae9330db",
       "version_major": 2,
       "version_minor": 0
      },
      "text/plain": [
       "HTML(value=\"<center><br><br><br><br><br><br><br><br><hr>Made by Dmytro Mishchenko as a project for the <a href…"
      ]
     },
     "metadata": {},
     "output_type": "display_data"
    }
   ],
   "source": [
    "sjsu_info = \"Made by Dmytro Mishchenko as a project for the <a href='https://pytorch2021.devpost.com/'><u>PyTorch Hackathon</u></a> with the help of a <a href='https://mlatsjsu.club'><u>Machine Learning Club</u></a> at San Jose State University.\"\n",
    "github_info = \"This project is open-source and is covered by the MIT License, for more details or if you want to contribure here is the <a href='https://github.com/mdmittriy/AgingClock'><u>GitHub repository</u></a>.\"\n",
    "demo_info = \"You can take a look at the demo of this project <a href='https://www.youtube.com/watch?v=SCxRiXIG13Q'><u>here</u></a>.\"\n",
    "aging_info = \"this work is heavily inspired by <a href='http://www.aging.ai'><u>aging.ai</u></a>\"\n",
    "info = widgets.HTML(value = f\"<center><br><br><br><br><br><br><br><br><hr>{sjsu_info}<br>{github_info}<br>{demo_info} And notice that {aging_info}<br><center>\")\n",
    "info"
   ]
  }
 ],
 "metadata": {
  "kernelspec": {
   "display_name": "Python 3 (ipykernel)",
   "language": "python",
   "name": "python3"
  },
  "language_info": {
   "codemirror_mode": {
    "name": "ipython",
    "version": 3
   },
   "file_extension": ".py",
   "mimetype": "text/x-python",
   "name": "python",
   "nbconvert_exporter": "python",
   "pygments_lexer": "ipython3",
   "version": "3.8.2"
  }
 },
 "nbformat": 4,
 "nbformat_minor": 5
}
