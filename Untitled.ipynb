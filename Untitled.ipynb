{
 "cells": [
  {
   "cell_type": "code",
   "execution_count": 1,
   "id": "c9f52a58",
   "metadata": {},
   "outputs": [],
   "source": [
    "import ageclock"
   ]
  },
  {
   "cell_type": "code",
   "execution_count": 2,
   "id": "46984ac0",
   "metadata": {},
   "outputs": [],
   "source": [
    "import torch"
   ]
  },
  {
   "cell_type": "code",
   "execution_count": 3,
   "id": "991e8ecf",
   "metadata": {},
   "outputs": [],
   "source": [
    "opt = torch.optim.SGD"
   ]
  },
  {
   "cell_type": "code",
   "execution_count": null,
   "id": "74551e2b",
   "metadata": {},
   "outputs": [
    {
     "name": "stdout",
     "output_type": "stream",
     "text": [
      "Linear -> LeakyReLU -> Dropout\n",
      "layers: [1000, 500, 250]\n",
      "ps: 0.35\n",
      "Optimizer: <class 'torch.optim.sgd.SGD'>\n",
      "Learning rate: 0.001\n",
      "Epoch 1\n",
      "-------------------------------\n",
      "Train Error: \n",
      " Predictions in 5 range: 30.1%, Avg loss: 10.641396 \n",
      "\n",
      "Test Error: \n",
      " Predictions in 5 range: 30.5%, Avg loss: 10.691032 \n",
      "\n",
      "Epoch 2\n",
      "-------------------------------\n",
      "Train Error: \n",
      " Predictions in 5 range: 32.1%, Avg loss: 10.202460 \n",
      "\n",
      "Test Error: \n",
      " Predictions in 5 range: 31.9%, Avg loss: 10.269195 \n",
      "\n",
      "Epoch 3\n",
      "-------------------------------\n",
      "Train Error: \n",
      " Predictions in 5 range: 32.8%, Avg loss: 10.044946 \n",
      "\n",
      "Test Error: \n",
      " Predictions in 5 range: 32.3%, Avg loss: 10.114755 \n",
      "\n",
      "Epoch 4\n",
      "-------------------------------\n",
      "Train Error: \n",
      " Predictions in 5 range: 33.7%, Avg loss: 9.941049 \n",
      "\n",
      "Test Error: \n",
      " Predictions in 5 range: 32.8%, Avg loss: 10.153073 \n",
      "\n",
      "Epoch 5\n",
      "-------------------------------\n",
      "Train Error: \n",
      " Predictions in 5 range: 33.5%, Avg loss: 9.854741 \n",
      "\n",
      "Test Error: \n",
      " Predictions in 5 range: 31.8%, Avg loss: 10.000252 \n",
      "\n",
      "Epoch 6\n",
      "-------------------------------\n",
      "Train "
     ]
    }
   ],
   "source": [
    "model = ageclock.train_test(epochs=10, optimizer=opt, )"
   ]
  },
  {
   "cell_type": "code",
   "execution_count": 87,
   "id": "fe262600",
   "metadata": {},
   "outputs": [],
   "source": [
    "torch.save(model.state_dict(), MODEL_PATH/'sgd_1111data_state_dict')"
   ]
  }
 ],
 "metadata": {
  "kernelspec": {
   "display_name": "Python 3 (ipykernel)",
   "language": "python",
   "name": "python3"
  },
  "language_info": {
   "codemirror_mode": {
    "name": "ipython",
    "version": 3
   },
   "file_extension": ".py",
   "mimetype": "text/x-python",
   "name": "python",
   "nbconvert_exporter": "python",
   "pygments_lexer": "ipython3",
   "version": "3.8.2"
  }
 },
 "nbformat": 4,
 "nbformat_minor": 5
}
