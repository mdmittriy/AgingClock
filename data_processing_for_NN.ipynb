{
 "cells": [
  {
   "cell_type": "code",
   "execution_count": 1,
   "id": "11364d9f",
   "metadata": {},
   "outputs": [],
   "source": [
    "import pandas as pd\n",
    "from pathlib import Path\n",
    "import numpy as np\n",
    "\n",
    "from sklearn.model_selection import StratifiedShuffleSplit\n",
    "from sklearn.pipeline import Pipeline\n",
    "from sklearn.compose import ColumnTransformer\n",
    "from sklearn.preprocessing import OrdinalEncoder\n",
    "from sklearn.preprocessing import StandardScaler"
   ]
  },
  {
   "cell_type": "code",
   "execution_count": 2,
   "id": "36d61cf7",
   "metadata": {},
   "outputs": [],
   "source": [
    "import pickle"
   ]
  },
  {
   "cell_type": "code",
   "execution_count": 3,
   "id": "dcd7b5ff",
   "metadata": {},
   "outputs": [],
   "source": [
    "DATA_PATH = Path.cwd()/'Data'"
   ]
  },
  {
   "cell_type": "code",
   "execution_count": 4,
   "id": "b63f6dce",
   "metadata": {},
   "outputs": [],
   "source": [
    "RAND_STATE = 0"
   ]
  },
  {
   "cell_type": "markdown",
   "id": "a8dbaa0b",
   "metadata": {},
   "source": [
    "#### Creating test and train sets"
   ]
  },
  {
   "cell_type": "code",
   "execution_count": 5,
   "id": "03f3b975",
   "metadata": {
    "tags": []
   },
   "outputs": [],
   "source": [
    "full_df = pd.read_csv(DATA_PATH/'Final_data.csv', low_memory=False)\n",
    "full_df.drop(labels='AlkPhos_UL', inplace=True, axis=1, errors='ignore')"
   ]
  },
  {
   "cell_type": "code",
   "execution_count": 6,
   "id": "5493da7d",
   "metadata": {},
   "outputs": [],
   "source": [
    "#Adding categorical age column for proportional/stratified train/test split\n",
    "AGE_GROUP_AMOUNT = 8\n",
    "full_df['AGE_GROUP'] = pd.cut(full_df['AGE'], bins=AGE_GROUP_AMOUNT,\n",
    "                              labels=range(AGE_GROUP_AMOUNT))\n",
    "\n",
    "#Making train test split with proportional age groups\n",
    "split = StratifiedShuffleSplit(n_splits=1, test_size=0.1,\n",
    "                               random_state=RAND_STATE)\n",
    "for train_index, test_index in split.split(full_df, full_df['AGE_GROUP']):\n",
    "    strat_train_set = full_df.iloc[train_index]\n",
    "    strat_test_set = full_df.iloc[test_index]"
   ]
  },
  {
   "cell_type": "code",
   "execution_count": 7,
   "id": "b857f312",
   "metadata": {
    "tags": []
   },
   "outputs": [],
   "source": [
    "full_transform = ColumnTransformer([\n",
    "    ('encoder', OrdinalEncoder(), ['GENDER']),\n",
    "    ('drop', 'drop', ['SEQN', 'AGE_GROUP']),\n",
    "    ('scaler', StandardScaler(), list(strat_train_set.columns)[2:-2]),\n",
    "    ('passthrough', 'passthrough', [\"AGE\"]),\n",
    "])\n",
    "\n",
    "trans_train = full_transform.fit_transform(strat_train_set)"
   ]
  },
  {
   "cell_type": "code",
   "execution_count": 8,
   "id": "064b478a",
   "metadata": {
    "tags": []
   },
   "outputs": [],
   "source": [
    "train = pd.DataFrame(full_transform.fit_transform(strat_train_set), \n",
    "                 columns=strat_train_set.columns[1:-1])\n",
    "test = pd.DataFrame(full_transform.fit_transform(strat_test_set), \n",
    "                 columns=strat_train_set.columns[1:-1])"
   ]
  },
  {
   "cell_type": "code",
   "execution_count": 9,
   "id": "d03cab9b",
   "metadata": {},
   "outputs": [],
   "source": [
    "train.to_csv('Data/train_data.csv', index=False)\n",
    "test.to_csv('Data/test_data.csv', index=False)"
   ]
  },
  {
   "cell_type": "code",
   "execution_count": 10,
   "id": "ebefcde3",
   "metadata": {},
   "outputs": [],
   "source": [
    "full_df = pd.concat([train, test]).reset_index(drop=True)"
   ]
  },
  {
   "cell_type": "code",
   "execution_count": 11,
   "id": "08a96e6d",
   "metadata": {},
   "outputs": [],
   "source": [
    "full_df.to_csv('Data/full_data.csv', index=False)"
   ]
  },
  {
   "cell_type": "markdown",
   "id": "d802b935",
   "metadata": {},
   "source": [
    "#### Creating zipped biomarkers and their units of measurement"
   ]
  },
  {
   "cell_type": "code",
   "execution_count": 12,
   "id": "9c14049f",
   "metadata": {},
   "outputs": [],
   "source": [
    "a='''Albumin**                        [                    ] 35 - 52 g/l\n",
    "Glucose**                        [                    ] 3.9 - 5.8 mmole/l\n",
    "Urea**(BUN)                      [                    ] 2.5 - 6.4 mmole/l\n",
    "Cholesterol**                    [                    ] 3.37 - 5.96 mmole/l\n",
    "Protein total**                  [                    ] 64 - 83 g/l\n",
    "Sodium**                         [                    ] 136 - 146 mmole/l\n",
    "Creatinine**                     [                    ] 53 - 97 mmole/l\n",
    "Hemoglobin**                     [                    ] 11.7 - 15.5 g/dl\n",
    "Bilirubin total                  [                    ] 1.7 - 21 mcmole/l\n",
    "Triglycerides                    [                    ] 0.68 - 6 mmole/l\n",
    "HDL Cholesterol                  [                    ] < 3.3 mmole/l\n",
    "LDL cholesterol (by Friedewald)  [                    ] 1.81- 4.04 mmole/l\n",
    "Calcium                          [                    ] 2.15 - 2.65 mmole/l\n",
    "Potassium                        [                    ] 3.4 - 5.1 mmole/l\n",
    "Hematocrit                       [                    ] 37 - 50 %\n",
    "MCHC                             [                    ] 31.5 - 35.7 g/dL\n",
    "MCV                              [                    ] 82 - 95 fl\n",
    "Platelets                        [                    ] 150 - 450 10^3 /mcl\n",
    "Erythrocytes (RBC)               [                    ] 3.5 - 5.5 10^6 /mcl'''"
   ]
  },
  {
   "cell_type": "code",
   "execution_count": 13,
   "id": "51339f8b",
   "metadata": {},
   "outputs": [],
   "source": [
    "lines = a.splitlines()\n",
    "lines = [l.split('[') for l in lines]\n",
    "lines = [(b.strip(), m.strip()) for b, m in lines]"
   ]
  },
  {
   "cell_type": "code",
   "execution_count": 14,
   "id": "1593429c",
   "metadata": {},
   "outputs": [],
   "source": [
    "biomarkers = [l[0] for l in lines]\n",
    "measures = [l[1][2:] for l in lines]"
   ]
  },
  {
   "cell_type": "code",
   "execution_count": 15,
   "id": "9a7bfe1c",
   "metadata": {},
   "outputs": [],
   "source": [
    "measures[4] = '6.4 - 8.3 g/dl'"
   ]
  },
  {
   "cell_type": "code",
   "execution_count": 16,
   "id": "64e1aab1",
   "metadata": {},
   "outputs": [],
   "source": [
    "z = list(zip(biomarkers, measures))"
   ]
  },
  {
   "cell_type": "code",
   "execution_count": 17,
   "id": "d9a69d7e",
   "metadata": {},
   "outputs": [],
   "source": [
    "s = 'Biomarker,Unit\\n'\n",
    "for b, u in z:\n",
    "    s += b+','+u+'\\n'"
   ]
  },
  {
   "cell_type": "code",
   "execution_count": 18,
   "id": "6d3a0b7b",
   "metadata": {},
   "outputs": [],
   "source": [
    "with open(\"Data/non_NHANES/markers_units.csv\", \"w\") as text_file:\n",
    "    text_file.write(s.strip())"
   ]
  }
 ],
 "metadata": {
  "kernelspec": {
   "display_name": "Python 3 (ipykernel)",
   "language": "python",
   "name": "python3"
  },
  "language_info": {
   "codemirror_mode": {
    "name": "ipython",
    "version": 3
   },
   "file_extension": ".py",
   "mimetype": "text/x-python",
   "name": "python",
   "nbconvert_exporter": "python",
   "pygments_lexer": "ipython3",
   "version": "3.8.2"
  }
 },
 "nbformat": 4,
 "nbformat_minor": 5
}
