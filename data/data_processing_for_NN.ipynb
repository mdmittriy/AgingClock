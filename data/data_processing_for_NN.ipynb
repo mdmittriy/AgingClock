{
 "cells": [
  {
   "cell_type": "code",
   "execution_count": 1,
   "id": "5900f66c",
   "metadata": {},
   "outputs": [],
   "source": [
    "import pandas as pd\n",
    "from pathlib import Path\n",
    "import numpy as np\n",
    "\n",
    "from sklearn.model_selection import StratifiedShuffleSplit\n",
    "from sklearn.pipeline import Pipeline\n",
    "from sklearn.compose import ColumnTransformer\n",
    "from sklearn.preprocessing import OrdinalEncoder\n",
    "from sklearn.preprocessing import StandardScaler\n",
    "\n",
    "from pickle import dump"
   ]
  },
  {
   "cell_type": "code",
   "execution_count": 2,
   "id": "aee49ee4",
   "metadata": {},
   "outputs": [],
   "source": [
    "def split_transform_save(input_path = Path('../nivis_data/data_bio_albcr.csv'),\n",
    "                         output_path = Path('../nivis_data/'),\n",
    "                         target_names = ['AGE'],\n",
    "                         cat_names = ['GENDER'],\n",
    "                         drop_names = ['SEQN', 'AlkPhos_UL'],\n",
    "                         age_groups = 8,\n",
    "                         rand_state = 0,\n",
    "                         test_size = 0.1):\n",
    "                    \n",
    "    '''Load the data, drop unused features, split it by a statified sclearn\n",
    "    split, scale, encode, and pass continious, categorical, and target\n",
    "    features respectively save the transformer and full/test/train datasets'''\n",
    "                             \n",
    "    #Loading and preprocessing a dataset\n",
    "    full_df = pd.read_csv(input_path, low_memory=False)\n",
    "    full_df.drop(drop_names, inplace=True, axis=1)\n",
    "    cont_names = [x for x in full_df.columns if x not in cat_names + target_names]\n",
    "\n",
    "    #Adding categorical age column for a stratified train/test split\n",
    "    full_df['AGE_GROUP'] = pd.cut(full_df['AGE'],\n",
    "                                  bins=age_groups,\n",
    "                                  labels=range(age_groups))\n",
    "\n",
    "    #Making train test split with proportional age groups\n",
    "    split = StratifiedShuffleSplit(n_splits=1,\n",
    "                                   test_size=test_size,\n",
    "                                   random_state=rand_state)\n",
    "    \n",
    "    for train_index, test_index in split.split(full_df, full_df['AGE_GROUP']):\n",
    "        strat_train_set = full_df.iloc[train_index].drop('AGE_GROUP', axis=1)\n",
    "        strat_test_set = full_df.iloc[test_index].drop('AGE_GROUP', axis=1)\n",
    "\n",
    "    full_transform = ColumnTransformer([\n",
    "        ('encoder', OrdinalEncoder(), [0]),\n",
    "        ('scaler', StandardScaler(), slice(1, -1)),\n",
    "        ('passthrough', 'passthrough', [-1]),\n",
    "    ])\n",
    "\n",
    "    train_df = pd.DataFrame(full_transform.fit_transform(strat_train_set), \n",
    "                     columns=cat_names+cont_names+target_names)\n",
    "    test_df = pd.DataFrame(full_transform.transform(strat_test_set), \n",
    "                     columns=cat_names+cont_names+target_names)\n",
    "    full_df = pd.concat([train_df, test_df]).reset_index(drop=True)\n",
    "\n",
    "    train_df.to_csv(output_path/'train_data.csv', index=False)\n",
    "    test_df.to_csv(output_path/'test_data.csv', index=False)\n",
    "    full_df.to_csv(output_path/'full_data.csv', index=False)\n",
    "    dump(full_transform, open('transformer.pkl', 'wb'))"
   ]
  },
  {
   "cell_type": "code",
   "execution_count": 3,
   "id": "738263e6",
   "metadata": {},
   "outputs": [],
   "source": [
    "def make_biomarkers_units(to_path=Path('non_NHANES/markers_units.csv')):\n",
    "    '''Create a zipped list of biomarkers and their units of emasurements'''\n",
    "    a='''Albumin**                   [                ] 35 - 52 g/l\n",
    "    Glucose**                        [                ] 3.9 - 5.8 mmole/l\n",
    "    Urea**(BUN)                      [                ] 2.5 - 6.4 mmole/l\n",
    "    Cholesterol**                    [                ] 3.37 - 5.96 mmole/l\n",
    "    Protein total**                  [                ] 64 - 83 g/l\n",
    "    Sodium**                         [                ] 136 - 146 mmole/l\n",
    "    Creatinine**                     [                ] 53 - 97 mmole/l\n",
    "    Hemoglobin**                     [                ] 11.7 - 15.5 g/dl\n",
    "    Bilirubin total                  [                ] 1.7 - 21 mcmole/l\n",
    "    Triglycerides                    [                ] 0.68 - 6 mmole/l\n",
    "    HDL Cholesterol                  [                ] < 3.3 mmole/l\n",
    "    LDL cholesterol (by Friedewald)  [                ] 1.81- 4.04 mmole/l\n",
    "    Calcium                          [                ] 2.15 - 2.65 mmole/l\n",
    "    Potassium                        [                ] 3.4 - 5.1 mmole/l\n",
    "    Hematocrit                       [                ] 37 - 50 %\n",
    "    MCHC                             [                ] 31.5 - 35.7 g/dL\n",
    "    MCV                              [                ] 82 - 95 fl\n",
    "    Platelets                        [                ] 150 - 450 10^3 /mcl\n",
    "    Erythrocytes (RBC)               [                ] 3.5 - 5.5 10^6 /mcl'''\n",
    "\n",
    "    lines = a.splitlines()\n",
    "    lines = [l.split('[') for l in lines]\n",
    "    lines = [(b.strip(), m.strip()) for b, m in lines]\n",
    "\n",
    "    biomarkers = [l[0] for l in lines]\n",
    "    units = [l[1][2:] for l in lines]\n",
    "    units[4] = '6.4 - 8.3 g/dl'\n",
    "\n",
    "    s = 'Biomarker,Unit\\n'\n",
    "    for b, u in list(zip(biomarkers, units)):\n",
    "        s += b+','+u+'\\n'\n",
    "\n",
    "    with open(to_path, 'w') as text_file:\n",
    "        text_file.write(s.strip())"
   ]
  },
  {
   "cell_type": "code",
   "execution_count": 4,
   "id": "fa8873b3",
   "metadata": {},
   "outputs": [],
   "source": [
    "def make_samples():\n",
    "\n",
    "    MALE69 = [1.0, 37.0, 5.16, 3.89, 4.73, 5.9, 140.0, 88.4, 14.4, 18.81, 1.11,\n",
    "              1.05, 3.13, 2.05, 4.4, 44.2, 32.6, 91.0, 188.0, 4.86, 69.0]\n",
    "    MALE40=[1.0, 49.21, 5.28, 7.3, 7.04, 7.0, 143.0, 100.5, 16.5, 17.2, 1.35,\n",
    "            1.6, 4.83, 2.48, 4.7, 46.7, 35.4, 86.5, 177.0, 5.41, 40.0]\n",
    "    MALE29 = [1.0, 47.64, 5.06, 6.0, 5.35, 8.2, 139.0, 72.7, 13.6, 10.9, 0.74,\n",
    "              1.38, 3.63, 2.62, 4.7, 40.8, 33.3, 73.2, 206.0, 5.57, 29.0]\n",
    "    FEMALE31 = [0.0, 41, 4.27, 3, 3.24, 6.9, 140, 53.04, 13.3, 22.23, 0.56,\n",
    "                0.92, 1.85, 2.12, 3.7, 38.4, 34.6, 88.3, 164, 4.35, 31.0]\n",
    "    FEMALE61 = [0.0, 38.72, 5.65, 6.4, 6.54, 6.4, 141, 67, 13.5, 7.2, 1.48,\n",
    "                1.37, 4.5, 2.33, 4.2, 37.3, 36.2, 84.4, 437, 4.42, 61.0]\n",
    "\n",
    "    people = [FEMALE31, FEMALE61, MALE29, MALE40, MALE69]\n",
    "\n",
    "    df = pd.read_csv('test_data.csv')\n",
    "    df = df[0:len(people)].copy()\n",
    "    for i, biomarkers in enumerate(people):\n",
    "        df[i:i+1] = biomarkers\n",
    "    \n",
    "    df.to_csv('non_NHANES/samples_from_aging.csv', index=False)"
   ]
  },
  {
   "cell_type": "code",
   "execution_count": 5,
   "id": "fa062e66",
   "metadata": {},
   "outputs": [],
   "source": [
    "split_transform_save()"
   ]
  },
  {
   "cell_type": "code",
   "execution_count": 6,
   "id": "7689d687",
   "metadata": {},
   "outputs": [],
   "source": [
    "make_biomarkers_units()"
   ]
  },
  {
   "cell_type": "code",
   "execution_count": 7,
   "id": "6898d3b9",
   "metadata": {},
   "outputs": [],
   "source": [
    "make_samples()"
   ]
  }
 ],
 "metadata": {
  "kernelspec": {
   "display_name": "Python 3 (ipykernel)",
   "language": "python",
   "name": "python3"
  },
  "language_info": {
   "codemirror_mode": {
    "name": "ipython",
    "version": 3
   },
   "file_extension": ".py",
   "mimetype": "text/x-python",
   "name": "python",
   "nbconvert_exporter": "python",
   "pygments_lexer": "ipython3",
   "version": "3.8.2"
  }
 },
 "nbformat": 4,
 "nbformat_minor": 5
}
